{
 "cells": [
  {
   "cell_type": "code",
   "execution_count": 1,
   "id": "599e6e75",
   "metadata": {},
   "outputs": [
    {
     "name": "stdout",
     "output_type": "stream",
     "text": [
      "rdflib: 7.2.1\n",
      "SPARQLWrapper: 2.0.0\n",
      "pyshacl: 0.30.1\n"
     ]
    }
   ],
   "source": [
    "import rdflib\n",
    "import SPARQLWrapper\n",
    "import pyshacl\n",
    "\n",
    "print(\"rdflib:\", rdflib.__version__)\n",
    "print(\"SPARQLWrapper:\", SPARQLWrapper.__version__)\n",
    "# pyshacl has __version__ on the package, not module attribute in some versions:\n",
    "try:\n",
    "    import pyshacl\n",
    "    print(\"pyshacl:\", getattr(pyshacl, \"__version__\", \"installed\"))\n",
    "except Exception as e:\n",
    "    print(\"pyshacl import error:\", e)\n",
    "    "
   ]
  }
 ],
 "metadata": {
  "kernelspec": {
   "display_name": "Python 3",
   "language": "python",
   "name": "python3"
  },
  "language_info": {
   "codemirror_mode": {
    "name": "ipython",
    "version": 3
   },
   "file_extension": ".py",
   "mimetype": "text/x-python",
   "name": "python",
   "nbconvert_exporter": "python",
   "pygments_lexer": "ipython3",
   "version": "3.9.6"
  }
 },
 "nbformat": 4,
 "nbformat_minor": 5
}
