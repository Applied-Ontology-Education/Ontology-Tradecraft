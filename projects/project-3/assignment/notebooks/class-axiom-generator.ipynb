{
 "cells": [
  {
   "cell_type": "code",
   "id": "50257ff0",
   "metadata": {
    "ExecuteTime": {
     "end_time": "2025-09-17T10:41:55.574436Z",
     "start_time": "2025-09-17T10:41:52.465444Z"
    }
   },
   "source": [
    "# Install if needed:\n",
    "# !pip install SPARQLWrapper pandas openpyxl\n",
    "\n",
    "import pandas as pd\n",
    "from SPARQLWrapper import SPARQLWrapper, JSON\n",
    "\n",
    "BASE = \"http://127.0.0.1:5000/sparql\"\n",
    "\n",
    "# Map ontology keys → output file stems\n",
    "TARGETS = {\n",
    "    \"bfo\":  \"ontology bfo-axioms.xlsx\",\n",
    "    \"ies\":  \"ontology ies-axioms.xlsx\",\n",
    "    \"qudt\": \"ontology qudt-axioms.xlsx\",\n",
    "    \"ccom\": \"ontology ccom-axioms.xlsx\",\n",
    "    \"ccot\": \"ontology ccot-axioms.xlsx\",\n",
    "    \"to\":   \"ontology to-axioms.xlsx\",\n",
    "}\n",
    "\n",
    "AXIOMS_QUERY = \"\"\"\n",
    "PREFIX rdfs: <http://www.w3.org/2000/01/rdf-schema#>\n",
    "PREFIX owl:  <http://www.w3.org/2002/07/owl#>\n",
    "SELECT ?iri ?predicate ?object ?label\n",
    "WHERE {\n",
    "  ?iri a ?classType .\n",
    "  ?iri ?predicate ?object .\n",
    "  VALUES ?classType { owl:Class rdfs:Class }\n",
    "  OPTIONAL { ?iri rdfs:label ?label }\n",
    "  FILTER NOT EXISTS { ?iri owl:deprecated true }\n",
    "}\n",
    "ORDER BY ?label\n",
    "\"\"\"\n",
    "\n",
    "def run_select(endpoint_url: str, query: str) -> pd.DataFrame:\n",
    "    sp = SPARQLWrapper(endpoint_url)\n",
    "    sp.setQuery(query)\n",
    "    sp.setReturnFormat(JSON)\n",
    "    data = sp.query().convert()\n",
    "    rows = []\n",
    "    for b in data[\"results\"][\"bindings\"]:\n",
    "        iri = b.get(\"iri\", {}).get(\"value\")\n",
    "        label = b.get(\"label\", {}).get(\"value\")\n",
    "        predicate = b.get(\"predicate\", {}).get(\"value\")\n",
    "        object = b.get(\"object\", {}).get(\"value\")\n",
    "        axiom = f\"{iri} {predicate} {object} .\"\n",
    "        rows.append({\"iri\": iri,\n",
    "                     \"label\": label,\n",
    "                     \"axiom\": axiom})\n",
    "    return pd.DataFrame(rows, columns=[\"iri\", \"label\", \"axiom\"])\n",
    "\n",
    "\n",
    "for key, outfile in TARGETS.items():\n",
    "    endpoint = f\"{BASE}/{key}\"\n",
    "    print(f\"Querying {endpoint} …\")\n",
    "    df = run_select(endpoint, AXIOMS_QUERY)\n",
    "    # Save to Excel\n",
    "    df.to_excel(outfile, index=False)\n",
    "    print(f\"Saved {len(df)} rows to {outfile}\")\n"
   ],
   "outputs": [
    {
     "name": "stdout",
     "output_type": "stream",
     "text": [
      "Querying http://127.0.0.1:5000/sparql/bfo …\n",
      "Saved 357 rows to ontology bfo-axioms.xlsx\n",
      "Querying http://127.0.0.1:5000/sparql/ies …\n",
      "Saved 2629 rows to ontology ies-axioms.xlsx\n",
      "Querying http://127.0.0.1:5000/sparql/qudt …\n",
      "Saved 692 rows to ontology qudt-axioms.xlsx\n",
      "Querying http://127.0.0.1:5000/sparql/ccom …\n",
      "Saved 168 rows to ontology ccom-axioms.xlsx\n",
      "Querying http://127.0.0.1:5000/sparql/ccot …\n",
      "Saved 216 rows to ontology ccot-axioms.xlsx\n",
      "Querying http://127.0.0.1:5000/sparql/to …\n",
      "Saved 364 rows to ontology to-axioms.xlsx\n"
     ]
    }
   ],
   "execution_count": 11
  }
 ],
 "metadata": {
  "kernelspec": {
   "display_name": "base",
   "language": "python",
   "name": "python3"
  },
  "language_info": {
   "codemirror_mode": {
    "name": "ipython",
    "version": 3
   },
   "file_extension": ".py",
   "mimetype": "text/x-python",
   "name": "python",
   "nbconvert_exporter": "python",
   "pygments_lexer": "ipython3",
   "version": "3.9.13"
  }
 },
 "nbformat": 4,
 "nbformat_minor": 5
}
