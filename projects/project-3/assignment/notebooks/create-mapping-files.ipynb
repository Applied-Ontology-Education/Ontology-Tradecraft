{
 "cells": [
  {
   "metadata": {
    "ExecuteTime": {
     "end_time": "2025-10-04T12:55:11.231871Z",
     "start_time": "2025-10-04T12:55:10.933582Z"
    }
   },
   "cell_type": "code",
   "source": [
    "from rdflib import Graph, Namespace, URIRef, Literal\n",
    "from rdflib.namespace import RDF, RDFS, OWL\n",
    "import pandas as pd\n",
    "import openpyxl"
   ],
   "id": "b3c155d955404a9a",
   "outputs": [],
   "execution_count": 5
  },
  {
   "metadata": {},
   "cell_type": "markdown",
   "source": "### Helper functions",
   "id": "24ee238ded21f0ec"
  },
  {
   "metadata": {
    "ExecuteTime": {
     "end_time": "2025-10-04T12:55:13.373619Z",
     "start_time": "2025-10-04T12:55:13.370899Z"
    }
   },
   "cell_type": "code",
   "source": [
    "def read_xls(input_file, left_namespace, right_namespace):\n",
    "\n",
    "    # Load the workbook and select a worksheet\n",
    "    wb = openpyxl.load_workbook(input_file, data_only=True)\n",
    "    sheet = wb.active  # or wb['SheetName']\n",
    "\n",
    "    # Read data from specific columns into lists\n",
    "    left = []\n",
    "    mapping = []\n",
    "    right = []\n",
    "    for row in sheet.iter_rows(min_row=2):\n",
    "        left.append(row[0].value[len(left_namespace):])\n",
    "        mapping.append(row[1].value)\n",
    "        right.append(row[5].value[len(right_namespace):])\n",
    "\n",
    "    # Create a pandas DataFrame from selected columns\n",
    "    df = pd.DataFrame({\n",
    "        'left': left,\n",
    "        'mapping': mapping,\n",
    "        'right': right\n",
    "    })\n",
    "\n",
    "    return(df)"
   ],
   "id": "2df7a27621f36d77",
   "outputs": [],
   "execution_count": 6
  },
  {
   "metadata": {
    "ExecuteTime": {
     "end_time": "2025-10-04T12:55:16.032049Z",
     "start_time": "2025-10-04T12:55:16.028961Z"
    }
   },
   "cell_type": "code",
   "source": [
    "def create_mapping(direction, mapping_file, left_prefix, left_namespace, right_prefix, right_namespace):\n",
    "    # Create a new RDF graph\n",
    "    g = Graph()\n",
    "\n",
    "    # Add namespaces\n",
    "    LEFT = Namespace(left_namespace)\n",
    "    RIGHT = Namespace(right_namespace)\n",
    "    g.bind(left_prefix, LEFT)\n",
    "    g.bind(right_prefix, RIGHT)\n",
    "\n",
    "    # Read the mapping file\n",
    "    mapping_df = read_xls(mapping_file, left_namespace, right_namespace)\n",
    "\n",
    "    # Add mappings to the graph\n",
    "    for row in mapping_df.itertuples():\n",
    "        left_term = row[1]\n",
    "        mapping_term = row[2]\n",
    "        right_term = row[3]\n",
    "        left_uri = URIRef(LEFT[left_term])\n",
    "        right_uri = URIRef(RIGHT[right_term])\n",
    "        if mapping_term == 'e':\n",
    "            g.add((left_uri, OWL.equivalentClass, right_uri))\n",
    "        elif mapping_term == \"ls\" and direction == \"ls\" :\n",
    "            g.add((left_uri, RDFS.subClassOf, right_uri))\n",
    "        elif mapping_term == \"rs\" and direction == \"rs\" :\n",
    "            g.add((right_uri, RDFS.subClassOf, left_uri))\n",
    "        else:\n",
    "            pass #no mapping\n",
    "\n",
    "    return(g)"
   ],
   "id": "db8b269031d9e00b",
   "outputs": [],
   "execution_count": 7
  },
  {
   "metadata": {},
   "cell_type": "markdown",
   "source": "### Common core time to W3C time",
   "id": "644a501317f9178f"
  },
  {
   "metadata": {
    "ExecuteTime": {
     "end_time": "2025-10-04T12:51:17.552693Z",
     "start_time": "2025-10-04T12:51:17.445869Z"
    }
   },
   "cell_type": "code",
   "source": [
    "mapping_file = \"../matching/ccot-time-structural-matches.xlsx\"\n",
    "\n",
    "# Define a CCO namespace\n",
    "left_prefix = \"cco\"\n",
    "left_namespace = \"https://www.commoncoreontologies.org/\"\n",
    "\n",
    "# Define a Time namespace\n",
    "right_prefix = \"to\"\n",
    "right_namespace = \"http://www.w3.org/2006/time#\"\n",
    "\n",
    "# Map left to right\n",
    "g = create_mapping(\n",
    "    \"ls\",\n",
    "    mapping_file,\n",
    "    left_prefix,\n",
    "    left_namespace,\n",
    "    right_prefix,\n",
    "    right_namespace\n",
    ")\n",
    "\n",
    "with open(\"../src/data/ccot-mapping.ttl\", \"w\") as output_file:\n",
    "    output_file.write(g.serialize(format=\"turtle\"))\n",
    "\n",
    "# Map right to left\n",
    "g = create_mapping(\n",
    "    \"rs\",\n",
    "    mapping_file,\n",
    "    left_prefix,\n",
    "    left_namespace,\n",
    "    right_prefix,\n",
    "    right_namespace\n",
    ")\n",
    "\n",
    "with open(\"../src/data/time-mapping.ttl\", \"w\") as output_file:\n",
    "    output_file.write(g.serialize(format=\"turtle\"))"
   ],
   "id": "615f4b9d4412f6d1",
   "outputs": [
    {
     "ename": "NameError",
     "evalue": "name 'create_mapping' is not defined",
     "output_type": "error",
     "traceback": [
      "\u001B[31m---------------------------------------------------------------------------\u001B[39m",
      "\u001B[31mNameError\u001B[39m                                 Traceback (most recent call last)",
      "\u001B[36mCell\u001B[39m\u001B[36m \u001B[39m\u001B[32mIn[1]\u001B[39m\u001B[32m, line 12\u001B[39m\n\u001B[32m      9\u001B[39m right_namespace = \u001B[33m\"\u001B[39m\u001B[33mhttp://www.w3.org/2006/time#\u001B[39m\u001B[33m\"\u001B[39m\n\u001B[32m     11\u001B[39m \u001B[38;5;66;03m# Map left to right\u001B[39;00m\n\u001B[32m---> \u001B[39m\u001B[32m12\u001B[39m g = \u001B[43mcreate_mapping\u001B[49m(\n\u001B[32m     13\u001B[39m     \u001B[33m\"\u001B[39m\u001B[33mls\u001B[39m\u001B[33m\"\u001B[39m,\n\u001B[32m     14\u001B[39m     mapping_file,\n\u001B[32m     15\u001B[39m     left_prefix,\n\u001B[32m     16\u001B[39m     left_namespace,\n\u001B[32m     17\u001B[39m     right_prefix,\n\u001B[32m     18\u001B[39m     right_namespace\n\u001B[32m     19\u001B[39m )\n\u001B[32m     21\u001B[39m \u001B[38;5;28;01mwith\u001B[39;00m \u001B[38;5;28mopen\u001B[39m(\u001B[33m\"\u001B[39m\u001B[33m../src/data/ccot-mapping.ttl\u001B[39m\u001B[33m\"\u001B[39m, \u001B[33m\"\u001B[39m\u001B[33mw\u001B[39m\u001B[33m\"\u001B[39m) \u001B[38;5;28;01mas\u001B[39;00m output_file:\n\u001B[32m     22\u001B[39m     output_file.write(g.serialize(\u001B[38;5;28mformat\u001B[39m=\u001B[33m\"\u001B[39m\u001B[33mturtle\u001B[39m\u001B[33m\"\u001B[39m))\n",
      "\u001B[31mNameError\u001B[39m: name 'create_mapping' is not defined"
     ]
    }
   ],
   "execution_count": 1
  },
  {
   "metadata": {},
   "cell_type": "markdown",
   "source": "### Common Core Units of Measure to QUDTS",
   "id": "594308581d76f9fb"
  },
  {
   "metadata": {
    "ExecuteTime": {
     "end_time": "2025-10-04T13:17:16.007713Z",
     "start_time": "2025-10-04T13:17:15.995321Z"
    }
   },
   "cell_type": "code",
   "source": [
    "mapping_file = \"/home/sanne/Projects/Ontology-Tradecraft/projects/project-3/assignment/matching/bfo-core-ies-structural-matches.xlsx\"\n",
    "\n",
    "# Define a CCO namespace\n",
    "left_prefix = \"ies4\"\n",
    "left_namespace = \"http://ies.data.gov.uk/ontology/ies4#\"\n",
    "\n",
    "# Define a Time namespace\n",
    "right_prefix = \"bfo\"\n",
    "right_namespace = \"http://purl.obolibrary.org/obo/bfo#\"\n",
    "\n",
    "g = create_mapping(\n",
    "    \"rs\",\n",
    "    mapping_file,\n",
    "    left_prefix,\n",
    "    left_namespace,\n",
    "    right_prefix,\n",
    "    right_namespace\n",
    ")\n",
    "\n",
    "# Serialize the ontology to Turtle format and save\n",
    "with open(\"../src/data/ies-mapping.ttl\", \"w\") as output_file:\n",
    "    output_file.write(g.serialize(format=\"turtle\"))\n",
    "\n",
    "g = create_mapping(\n",
    "    \"ls\",\n",
    "    mapping_file,\n",
    "    left_prefix,\n",
    "    left_namespace,\n",
    "    right_prefix,\n",
    "    right_namespace\n",
    ")\n",
    "\n",
    "with open(\"../src/data/bfo-mapping.ttl\", \"w\") as output_file:\n",
    "    output_file.write(g.serialize(format=\"turtle\"))"
   ],
   "id": "3a7254f3d7ff04ea",
   "outputs": [],
   "execution_count": 15
  },
  {
   "metadata": {
    "ExecuteTime": {
     "end_time": "2025-10-04T12:56:56.862124Z",
     "start_time": "2025-10-04T12:56:56.738991Z"
    }
   },
   "cell_type": "code",
   "source": "! pwd",
   "id": "ca20a534ef947291",
   "outputs": [
    {
     "name": "stdout",
     "output_type": "stream",
     "text": [
      "/home/sanne/Projects/Ontology-Tradecraft/projects/project-3/assignment/notebooks\r\n"
     ]
    }
   ],
   "execution_count": 9
  },
  {
   "metadata": {},
   "cell_type": "code",
   "outputs": [],
   "execution_count": null,
   "source": [
    "mapping_file = \"../matching/ccom-qudt-structural-matches.xlsx\"\n",
    "\n",
    "# Define a CCO namespace\n",
    "left_prefix = \"cco\"\n",
    "left_namespace = \"https://www.commoncoreontologies.org/\"\n",
    "\n",
    "# Define a Time namespace\n",
    "right_prefix = \"qudt-v1\"\n",
    "right_namespace = \"http://qudt.org/schema/qudt#\"\n",
    "\n",
    "g = create_mapping(\n",
    "    \"ls\",\n",
    "    mapping_file,\n",
    "    left_prefix,\n",
    "    left_namespace,\n",
    "    right_prefix,\n",
    "    right_namespace\n",
    ")\n",
    "\n",
    "# Serialize the ontology to Turtle format and save\n",
    "with open(\"../data/ccom-mapping.ttl\", \"w\") as output_file:\n",
    "    output_file.write(g.serialize(format=\"turtle\"))\n",
    "\n",
    "g = create_mapping(\n",
    "    \"rs\",\n",
    "    mapping_file,\n",
    "    left_prefix,\n",
    "    left_namespace,\n",
    "    right_prefix,\n",
    "    right_namespace\n",
    ")\n",
    "\n",
    "with open(\"../data/qudt-mapping.ttl\", \"w\") as output_file:\n",
    "    output_file.write(g.serialize(format=\"turtle\"))"
   ],
   "id": "579f39726fce1226"
  }
 ],
 "metadata": {
  "kernelspec": {
   "display_name": "Python 3",
   "language": "python",
   "name": "python3"
  },
  "language_info": {
   "codemirror_mode": {
    "name": "ipython",
    "version": 2
   },
   "file_extension": ".py",
   "mimetype": "text/x-python",
   "name": "python",
   "nbconvert_exporter": "python",
   "pygments_lexer": "ipython2",
   "version": "2.7.6"
  }
 },
 "nbformat": 4,
 "nbformat_minor": 5
}
