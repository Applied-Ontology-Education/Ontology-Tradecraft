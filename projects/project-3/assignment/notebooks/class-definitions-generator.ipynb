{
 "cells": [
  {
   "cell_type": "code",
   "id": "50257ff0",
   "metadata": {
    "ExecuteTime": {
     "end_time": "2025-09-18T12:38:18.007357Z",
     "start_time": "2025-09-18T12:38:16.573919Z"
    }
   },
   "source": [
    "# Install if needed:\n",
    "# !pip install SPARQLWrapper pandas openpyxl\n",
    "\n",
    "from SPARQLWrapper import SPARQLWrapper, JSON\n",
    "import pandas as pd\n",
    "\n",
    "BASE = \"http://127.0.0.1:5000/sparql\"\n",
    "\n",
    "# Map ontology keys → output file stems\n",
    "TARGETS = {\n",
    "    \"bfo\":  \"ontology bfo-definitions.xlsx\",\n",
    "    \"ies\":  \"ontology ies-definitions.xlsx\",\n",
    "    \"qudt\": \"ontology qudt-definitions.xlsx\",\n",
    "    \"ccom\": \"ontology ccom-definitions.xlsx\",\n",
    "    \"ccot\": \"ontology ccot-definitions.xlsx\",\n",
    "    \"to\":   \"ontology to-definitions.xlsx\",\n",
    "}\n",
    "\n",
    "DEFINITIONS_QUERY = \"\"\"\n",
    "PREFIX rdfs: <http://www.w3.org/2000/01/rdf-schema#>\n",
    "PREFIX owl:  <http://www.w3.org/2002/07/owl#>\n",
    "PREFIX skos: <http://www.w3.org/2004/02/skos/core#>\n",
    "PREFIX qudt: <http://qudt.org/schema/qudt#>\n",
    "PREFIX ies:  <http://ies.data.gov.uk/ontology/ies4#>\n",
    "PREFIX dc: <http://purl.org/dc/elements/1.1/>\n",
    "\n",
    "SELECT ?iri ?label ?definition\n",
    "WHERE {\n",
    "  ?iri a ?classType .\n",
    "  VALUES ?classType { owl:Class rdfs:Class }\n",
    "  OPTIONAL { ?iri rdfs:label ?label }\n",
    "  OPTIONAL { ?iri skos:definition ?definition }\n",
    "  OPTIONAL { ?iri qudt:description ?qudt_description }\n",
    "  OPTIONAL { ?iri dc:description ?dc_description }\n",
    "  OPTIONAL { ?iri rdfs:comment ?rdfs_comment }\n",
    "  BIND(\n",
    "    IF(STRSTARTS(STR(?iri), \"http://qudt.org/schema/qudt\"),\n",
    "       ?qudt_description,\n",
    "       ?definition) AS ?definition\n",
    "  )\n",
    "  BIND(\n",
    "    IF(STRSTARTS(STR(?iri), \"http://qudt.org/schema/qudt\"),\n",
    "       ?dc_description,\n",
    "       ?definition) AS ?definition\n",
    "  )\n",
    "  BIND(\n",
    "    IF(STRSTARTS(STR(?iri), \"http://ies.data.gov.uk/ontology/ies4\"),\n",
    "       ?rdfs_comment,\n",
    "       ?definition) AS ?definition\n",
    "  )\n",
    "  FILTER NOT EXISTS { ?iri owl:deprecated true }\n",
    "\n",
    "}\n",
    "ORDER BY ?label\n",
    "\"\"\"\n",
    "\n",
    "def run_select(endpoint_url: str, query: str) -> pd.DataFrame:\n",
    "    sp = SPARQLWrapper(endpoint_url)\n",
    "    sp.setQuery(query)\n",
    "    sp.setReturnFormat(JSON)\n",
    "    data = sp.query().convert()\n",
    "    rows = []\n",
    "    for b in data[\"results\"][\"bindings\"]:\n",
    "        iri = b.get(\"iri\", {}).get(\"value\")\n",
    "        label = b.get(\"label\", {}).get(\"value\")\n",
    "        definition = b.get(\"definition\", {}).get(\"value\")\n",
    "        rows.append({\"iri\": iri, \"label\": label, \"definition\": definition})\n",
    "    return pd.DataFrame(rows, columns=[\"iri\", \"label\", \"definition\"])\n",
    "\n",
    "for key, outfile in TARGETS.items():\n",
    "    endpoint = f\"{BASE}/{key}\"\n",
    "    print(f\"Querying {endpoint} …\")\n",
    "    df = run_select(endpoint, DEFINITIONS_QUERY)\n",
    "    # Save to Excel\n",
    "    df.to_excel(outfile, index=False)\n",
    "    print(f\"Saved {len(df)} rows to {outfile}\")\n"
   ],
   "outputs": [
    {
     "name": "stdout",
     "output_type": "stream",
     "text": [
      "Querying http://127.0.0.1:5000/sparql/bfo …\n",
      "Saved 84 rows to ontology bfo-definitions.xlsx\n",
      "Querying http://127.0.0.1:5000/sparql/ies …\n",
      "Saved 510 rows to ontology ies-definitions.xlsx\n",
      "Querying http://127.0.0.1:5000/sparql/qudt …\n",
      "Saved 175 rows to ontology qudt-definitions.xlsx\n",
      "Querying http://127.0.0.1:5000/sparql/ccom …\n",
      "Saved 28 rows to ontology ccom-definitions.xlsx\n",
      "Querying http://127.0.0.1:5000/sparql/ccot …\n",
      "Saved 33 rows to ontology ccot-definitions.xlsx\n",
      "Querying http://127.0.0.1:5000/sparql/to …\n",
      "Saved 75 rows to ontology to-definitions.xlsx\n"
     ]
    }
   ],
   "execution_count": 10
  },
  {
   "metadata": {},
   "cell_type": "code",
   "outputs": [],
   "execution_count": null,
   "source": "",
   "id": "ee75415c162290b9"
  }
 ],
 "metadata": {
  "kernelspec": {
   "display_name": "base",
   "language": "python",
   "name": "python3"
  },
  "language_info": {
   "codemirror_mode": {
    "name": "ipython",
    "version": 3
   },
   "file_extension": ".py",
   "mimetype": "text/x-python",
   "name": "python",
   "nbconvert_exporter": "python",
   "pygments_lexer": "ipython3",
   "version": "3.9.13"
  }
 },
 "nbformat": 4,
 "nbformat_minor": 5
}
