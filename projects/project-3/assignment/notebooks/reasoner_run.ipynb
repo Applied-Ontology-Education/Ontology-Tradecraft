{
 "cells": [
  {
   "cell_type": "code",
   "execution_count": 2,
   "id": "c7926ddf",
   "metadata": {},
   "outputs": [
    {
     "name": "stdout",
     "output_type": "stream",
     "text": [
      "Notebook CWD: /Users/MikeBortner/Documents/GitHub/Repos/Ontology-Tradecraft/projects/project-3/assignment/notebooks\n",
      "SRC_DIR     : /Users/MikeBortner/Documents/GitHub/Repos/Ontology-Tradecraft/projects/project-3/assignment/src\n",
      "DATA_DIR    : /Users/MikeBortner/Documents/GitHub/Repos/Ontology-Tradecraft/projects/project-3/assignment/src/data\n"
     ]
    },
    {
     "ename": "FileNotFoundError",
     "evalue": "Could not find sibling src/ and src/data/ next to notebooks/.",
     "output_type": "error",
     "traceback": [
      "\u001b[0;31m---------------------------------------------------------------------------\u001b[0m",
      "\u001b[0;31mFileNotFoundError\u001b[0m                         Traceback (most recent call last)",
      "Cell \u001b[0;32mIn[2], line 14\u001b[0m\n\u001b[1;32m     11\u001b[0m \u001b[38;5;28mprint\u001b[39m(\u001b[38;5;124m\"\u001b[39m\u001b[38;5;124mDATA_DIR    :\u001b[39m\u001b[38;5;124m\"\u001b[39m, DATA_DIR)\n\u001b[1;32m     13\u001b[0m \u001b[38;5;28;01mif\u001b[39;00m \u001b[38;5;129;01mnot\u001b[39;00m SRC_DIR\u001b[38;5;241m.\u001b[39mexists() \u001b[38;5;129;01mor\u001b[39;00m \u001b[38;5;129;01mnot\u001b[39;00m DATA_DIR\u001b[38;5;241m.\u001b[39mexists():\n\u001b[0;32m---> 14\u001b[0m     \u001b[38;5;28;01mraise\u001b[39;00m \u001b[38;5;167;01mFileNotFoundError\u001b[39;00m(\u001b[38;5;124m\"\u001b[39m\u001b[38;5;124mCould not find sibling src/ and src/data/ next to notebooks/.\u001b[39m\u001b[38;5;124m\"\u001b[39m)\n\u001b[1;32m     16\u001b[0m \u001b[38;5;66;03m# --- Files to test (must live in src/data) ---\u001b[39;00m\n\u001b[1;32m     17\u001b[0m mapping_files \u001b[38;5;241m=\u001b[39m [\n\u001b[1;32m     18\u001b[0m     \u001b[38;5;124m\"\u001b[39m\u001b[38;5;124mbfo-mapping.ttl\u001b[39m\u001b[38;5;124m\"\u001b[39m,\n\u001b[1;32m     19\u001b[0m     \u001b[38;5;124m\"\u001b[39m\u001b[38;5;124mies-mapping.ttl\u001b[39m\u001b[38;5;124m\"\u001b[39m,\n\u001b[0;32m   (...)\u001b[0m\n\u001b[1;32m     23\u001b[0m     \u001b[38;5;124m\"\u001b[39m\u001b[38;5;124mtime-mapping.ttl\u001b[39m\u001b[38;5;124m\"\u001b[39m,  \u001b[38;5;66;03m# keep this name if that's what your course uses\u001b[39;00m\n\u001b[1;32m     24\u001b[0m ]\n",
      "\u001b[0;31mFileNotFoundError\u001b[0m: Could not find sibling src/ and src/data/ next to notebooks/."
     ]
    }
   ],
   "source": [
    "import shutil, subprocess, tempfile\n",
    "from pathlib import Path\n",
    "\n",
    "# --- Locate src/data from a notebook in notebooks/ (siblings) ---\n",
    "NB_DIR   = Path.cwd().resolve()\n",
    "SRC_DIR  = NB_DIR.parent / \"src\"\n",
    "DATA_DIR = SRC_DIR / \"data\"\n",
    "\n",
    "print(\"Notebook CWD:\", NB_DIR)\n",
    "print(\"SRC_DIR     :\", SRC_DIR)\n",
    "print(\"DATA_DIR    :\", DATA_DIR)\n",
    "\n",
    "if not SRC_DIR.exists() or not DATA_DIR.exists():\n",
    "    raise FileNotFoundError(\"Could not find sibling src/ and src/data/ next to notebooks/.\")\n",
    "\n",
    "# --- Files to test (must live in src/data) ---\n",
    "mapping_files = [\n",
    "    \"bfo-mapping.ttl\",\n",
    "    \"ies-mapping.ttl\",\n",
    "    \"ccom-mapping.ttl\",\n",
    "    \"qudt-mapping.ttl\",\n",
    "    \"ccot-mapping.ttl\",\n",
    "    \"time-mapping.ttl\",  # keep this name if that's what your course uses\n",
    "]\n",
    "\n",
    "# --- Sanity: is ROBOT available? ---\n",
    "if shutil.which(\"robot\") is None:\n",
    "    raise RuntimeError(\"ROBOT not found on PATH. Install ROBOT and make sure 'robot' is runnable.\")\n",
    "\n",
    "# Print robot version (optional; comment out if you prefer silence)\n",
    "subprocess.run([\"robot\", \"--version\"], check=False)\n",
    "\n",
    "reasoners = [\"HermiT\", \"ELK\"]\n",
    "\n",
    "def run_robot_reason(input_file: Path, reasoner: str) -> bool:\n",
    "    \"\"\"Run robot reason with a temporary output; return True on success.\"\"\"\n",
    "    # robot requires an --output, so use a temp file and let it vanish\n",
    "    with tempfile.NamedTemporaryFile(suffix=\".ttl\", delete=True) as tmp:\n",
    "        res = subprocess.run(\n",
    "            [\n",
    "                \"robot\", \"reason\",\n",
    "                \"--reasoner\", reasoner,\n",
    "                \"--input\", str(input_file),\n",
    "                \"--output\", tmp.name,\n",
    "            ],\n",
    "            capture_output=True,\n",
    "            text=True,\n",
    "        )\n",
    "    return res.returncode == 0\n",
    "\n",
    "any_ran = False\n",
    "for name in mapping_files:\n",
    "    path = DATA_DIR / name\n",
    "    if not path.exists():\n",
    "        print(f\"SKIP  (missing): {name}\")\n",
    "        continue\n",
    "    any_ran = True\n",
    "    for r in reasoners:\n",
    "        ok = run_robot_reason(path, r)\n",
    "        status = \"SUCCESS\" if ok else \"FAILURE\"\n",
    "        print(f\"{status}: {name} [{r}]\")\n",
    "\n",
    "if not any_ran:\n",
    "    print(\"No mapping files found in src/data to test.\") \n"
   ]
  }
 ],
 "metadata": {
  "kernelspec": {
   "display_name": "Python 3",
   "language": "python",
   "name": "python3"
  },
  "language_info": {
   "codemirror_mode": {
    "name": "ipython",
    "version": 3
   },
   "file_extension": ".py",
   "mimetype": "text/x-python",
   "name": "python",
   "nbconvert_exporter": "python",
   "pygments_lexer": "ipython3",
   "version": "3.9.6"
  }
 },
 "nbformat": 4,
 "nbformat_minor": 5
}
