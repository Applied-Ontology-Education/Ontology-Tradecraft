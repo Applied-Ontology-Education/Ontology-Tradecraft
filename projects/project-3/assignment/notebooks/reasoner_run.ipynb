{
 "cells": [
  {
   "cell_type": "code",
   "execution_count": null,
   "id": "c7926ddf",
   "metadata": {},
   "outputs": [],
   "source": [
    "import subprocess\n",
    "from pathlib import Path\n",
    "\n",
    "# List of mapping files to test\n",
    "mapping_files = [\n",
    "    \"/Users/john/Repos/Ontology-Tradecraft/projects/project-3/assignment/src/data/bfo-mapping.ttl\",\n",
    "    \"ies-mapping.ttl\",\n",
    "    \"ccom-mapping.ttl\",\n",
    "    \"qudt-mapping.ttl\",\n",
    "    \"ccot-mapping.ttl\",\n",
    "    \"to-mapping.ttl\"\n",
    "]\n",
    "\n",
    "# Reasoners to run (ROBOT supports HermiT and ELK)\n",
    "reasoners = [\"HermiT\", \"ELK\"]\n",
    "\n",
    "# Create an output directory for classified ontologies\n",
    "outdir = Path(\"classified/\")\n",
    "outdir.mkdir(exist_ok=True)\n",
    "\n",
    "def run_reasoner(input_file, reasoner):\n",
    "    output_file = outdir / f\"{Path(input_file).stem}-{reasoner}-classified.ttl\"\n",
    "    print(f\"[RUN] {reasoner} on {input_file} -> {output_file}\")\n",
    "    \n",
    "    result = subprocess.run([\n",
    "        \"robot\", \"reason\",\n",
    "        \"--reasoner\", reasoner,\n",
    "        \"--input\", input_file,\n",
    "        \"--output\", str(output_file)\n",
    "    ], capture_output=True, text=True)\n",
    "    \n",
    "    if result.returncode == 0:\n",
    "        print(f\"[OK] {reasoner} finished successfully\")\n",
    "    else:\n",
    "        print(f\"[FAIL] {reasoner} on {input_file}\")\n",
    "        print(result.stderr)\n",
    "\n",
    "# Loop over all files and reasoners\n",
    "for f in mapping_files:\n",
    "    for r in reasoners:\n",
    "        run_reasoner(f, r)\n"
   ]
  }
 ],
 "metadata": {
  "kernelspec": {
   "display_name": "base",
   "language": "python",
   "name": "python3"
  },
  "language_info": {
   "codemirror_mode": {
    "name": "ipython",
    "version": 3
   },
   "file_extension": ".py",
   "mimetype": "text/x-python",
   "name": "python",
   "nbconvert_exporter": "python",
   "pygments_lexer": "ipython3",
   "version": "3.9.13"
  }
 },
 "nbformat": 4,
 "nbformat_minor": 5
}
