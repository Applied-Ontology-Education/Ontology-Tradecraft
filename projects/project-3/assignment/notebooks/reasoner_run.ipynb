{
 "cells": [
  {
   "cell_type": "code",
   "id": "c7926ddf",
   "metadata": {
    "ExecuteTime": {
     "end_time": "2025-09-19T10:22:43.173412Z",
     "start_time": "2025-09-19T10:22:26.772622Z"
    }
   },
   "source": [
    "import subprocess\n",
    "from pathlib import Path\n",
    "\n",
    "# List of mapping files to test\n",
    "mapping_files = [\n",
    "    \"../data/bfo-mapping.ttl\",\n",
    "    \"../data/ies-mapping.ttl\",\n",
    "    \"../data/ccom-mapping.ttl\",\n",
    "    \"../data/qudt-mapping.ttl\",\n",
    "    \"../data/ccot-mapping.ttl\",\n",
    "    \"../data/to-mapping.ttl\"\n",
    "]\n",
    "\n",
    "# Reasoners to run (ROBOT supports HermiT and ELK)\n",
    "reasoners = [\"HermiT\", \"ELK\"]\n",
    "\n",
    "# Create an output directory for classified ontologies\n",
    "outdir = Path(\"classified/\")\n",
    "outdir.mkdir(exist_ok=True)\n",
    "\n",
    "def run_reasoner(input_file, reasoner):\n",
    "    output_file = outdir / f\"{Path(input_file).stem}-{reasoner}-classified.ttl\"\n",
    "    print(f\"[RUN] {reasoner} on {input_file} -> {output_file}\")\n",
    "    \n",
    "    result = subprocess.run([\n",
    "        \"robot\", \"reason\",\n",
    "        \"--reasoner\", reasoner,\n",
    "        \"--input\", input_file,\n",
    "        \"--output\", str(output_file)\n",
    "    ], capture_output=True, text=True)\n",
    "    \n",
    "    if result.returncode == 0:\n",
    "        print(f\"[OK] {reasoner} finished successfully\")\n",
    "    else:\n",
    "        print(f\"[FAIL] {reasoner} on {input_file}\")\n",
    "        print(result.stderr)\n",
    "\n",
    "# Loop over all files and reasoners\n",
    "for f in mapping_files:\n",
    "    for r in reasoners:\n",
    "        run_reasoner(f, r)\n"
   ],
   "outputs": [
    {
     "name": "stdout",
     "output_type": "stream",
     "text": [
      "[RUN] HermiT on ../data/bfo-mapping.ttl -> classified/bfo-mapping-HermiT-classified.ttl\n",
      "[OK] HermiT finished successfully\n",
      "[RUN] ELK on ../data/bfo-mapping.ttl -> classified/bfo-mapping-ELK-classified.ttl\n",
      "[OK] ELK finished successfully\n",
      "[RUN] HermiT on ../data/ies-mapping.ttl -> classified/ies-mapping-HermiT-classified.ttl\n",
      "[OK] HermiT finished successfully\n",
      "[RUN] ELK on ../data/ies-mapping.ttl -> classified/ies-mapping-ELK-classified.ttl\n",
      "[OK] ELK finished successfully\n",
      "[RUN] HermiT on ../data/ccom-mapping.ttl -> classified/ccom-mapping-HermiT-classified.ttl\n",
      "[OK] HermiT finished successfully\n",
      "[RUN] ELK on ../data/ccom-mapping.ttl -> classified/ccom-mapping-ELK-classified.ttl\n",
      "[OK] ELK finished successfully\n",
      "[RUN] HermiT on ../data/qudt-mapping.ttl -> classified/qudt-mapping-HermiT-classified.ttl\n",
      "[OK] HermiT finished successfully\n",
      "[RUN] ELK on ../data/qudt-mapping.ttl -> classified/qudt-mapping-ELK-classified.ttl\n",
      "[OK] ELK finished successfully\n",
      "[RUN] HermiT on ../data/ccot-mapping.ttl -> classified/ccot-mapping-HermiT-classified.ttl\n",
      "[OK] HermiT finished successfully\n",
      "[RUN] ELK on ../data/ccot-mapping.ttl -> classified/ccot-mapping-ELK-classified.ttl\n",
      "[OK] ELK finished successfully\n",
      "[RUN] HermiT on ../data/to-mapping.ttl -> classified/to-mapping-HermiT-classified.ttl\n",
      "[OK] HermiT finished successfully\n",
      "[RUN] ELK on ../data/to-mapping.ttl -> classified/to-mapping-ELK-classified.ttl\n",
      "[OK] ELK finished successfully\n"
     ]
    }
   ],
   "execution_count": 4
  },
  {
   "metadata": {},
   "cell_type": "code",
   "outputs": [],
   "execution_count": null,
   "source": "",
   "id": "c800e66e72638ee8"
  }
 ],
 "metadata": {
  "kernelspec": {
   "display_name": "base",
   "language": "python",
   "name": "python3"
  },
  "language_info": {
   "codemirror_mode": {
    "name": "ipython",
    "version": 3
   },
   "file_extension": ".py",
   "mimetype": "text/x-python",
   "name": "python",
   "nbconvert_exporter": "python",
   "pygments_lexer": "ipython3",
   "version": "3.9.13"
  }
 },
 "nbformat": 4,
 "nbformat_minor": 5
}
