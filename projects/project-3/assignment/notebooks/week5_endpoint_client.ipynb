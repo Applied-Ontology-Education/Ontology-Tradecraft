{
 "cells": [
  {
   "cell_type": "code",
   "execution_count": null,
   "id": "50257ff0",
   "metadata": {},
   "outputs": [],
   "source": [
    "# Install if needed:\n",
    "# !pip install SPARQLWrapper pandas openpyxl\n",
    "\n",
    "from SPARQLWrapper import SPARQLWrapper, JSON\n",
    "import pandas as pd\n",
    "\n",
    "BASE = \"http://127.0.0.1:5000/sparql\"\n",
    "\n",
    "# Map ontology keys → output file stems\n",
    "TARGETS = {\n",
    "    \"bfo\":  \"bfo-class.xlsx\",\n",
    "    \"ies\":  \"ies-class.xlsx\",\n",
    "    \"qudt\": \"qudt-class.xlsx\",\n",
    "    \"ccom\": \"ccom-class.xlsx\",\n",
    "    \"ccot\": \"ccot-class.xlsx\",\n",
    "    \"to\":   \"to-class.xlsx\",\n",
    "}\n",
    "\n",
    "CLASS_LABEL_QUERY = \"\"\"\n",
    "PREFIX rdfs: <http://www.w3.org/2000/01/rdf-schema#>\n",
    "PREFIX owl:  <http://www.w3.org/2002/07/owl#>\n",
    "SELECT ?iri ?label\n",
    "WHERE {\n",
    "  ?iri a ?classType .\n",
    "  VALUES ?classType { owl:Class rdfs:Class }\n",
    "  OPTIONAL { ?iri rdfs:label ?label }\n",
    "  FILTER NOT EXISTS { ?iri owl:deprecated true }\n",
    "}\n",
    "ORDER BY ?label\n",
    "\"\"\"\n",
    "\n",
    "def run_select(endpoint_url: str, query: str) -> pd.DataFrame:\n",
    "    sp = SPARQLWrapper(endpoint_url)\n",
    "    sp.setQuery(query)\n",
    "    sp.setReturnFormat(JSON)\n",
    "    data = sp.query().convert()\n",
    "    rows = []\n",
    "    for b in data[\"results\"][\"bindings\"]:\n",
    "        iri = b.get(\"iri\", {}).get(\"value\")\n",
    "        label = b.get(\"label\", {}).get(\"value\")\n",
    "        rows.append({\"iri\": iri, \"label\": label})\n",
    "    return pd.DataFrame(rows, columns=[\"iri\", \"label\"])\n",
    "\n",
    "for key, outfile in TARGETS.items():\n",
    "    endpoint = f\"{BASE}/{key}\"\n",
    "    print(f\"Querying {endpoint} …\")\n",
    "    df = run_select(endpoint, CLASS_LABEL_QUERY)\n",
    "    # Save to Excel\n",
    "    df.to_excel(outfile, index=False)\n",
    "    print(f\"Saved {len(df)} rows to {outfile}\")\n"
   ]
  }
 ],
 "metadata": {
  "kernelspec": {
   "display_name": "base",
   "language": "python",
   "name": "python3"
  },
  "language_info": {
   "codemirror_mode": {
    "name": "ipython",
    "version": 3
   },
   "file_extension": ".py",
   "mimetype": "text/x-python",
   "name": "python",
   "nbconvert_exporter": "python",
   "pygments_lexer": "ipython3",
   "version": "3.9.13"
  }
 },
 "nbformat": 4,
 "nbformat_minor": 5
}
